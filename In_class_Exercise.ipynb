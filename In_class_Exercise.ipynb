{
  "cells": [
    {
      "cell_type": "markdown",
      "metadata": {
        "id": "view-in-github",
        "colab_type": "text"
      },
      "source": [
        "<a href=\"https://colab.research.google.com/github/saichandu04/Basic-Python/blob/main/In_class_Exercise.ipynb\" target=\"_parent\"><img src=\"https://colab.research.google.com/assets/colab-badge.svg\" alt=\"Open In Colab\"/></a>"
      ]
    },
    {
      "cell_type": "markdown",
      "metadata": {
        "id": "dAcdZ7zfFpa0"
      },
      "source": [
        "### Part 1"
      ]
    },
    {
      "cell_type": "markdown",
      "metadata": {
        "id": "GwySEjAfFpa3"
      },
      "source": [
        "Find all the mentions that follows a strange pattern of 'robot' followed by a digit and followed by a nonword character"
      ]
    },
    {
      "cell_type": "code",
      "execution_count": 21,
      "metadata": {
        "id": "s0oPrfOiFpa2"
      },
      "outputs": [],
      "source": [
        "tweet='@robot9! @robot4& I have a good feeling that the show isgoing to be amazing! @robot9$ @robot7% @ygenc @robot'"
      ]
    },
    {
      "cell_type": "code",
      "execution_count": 3,
      "metadata": {
        "colab": {
          "base_uri": "https://localhost:8080/"
        },
        "id": "rmtNwacTFpa3",
        "outputId": "a41b9d74-dd3b-4fad-883b-da7a6ef2b1dc"
      },
      "outputs": [
        {
          "output_type": "execute_result",
          "data": {
            "text/plain": [
              "['@robot9!', '@robot4&', '@robot9$', '@robot7%']"
            ]
          },
          "metadata": {},
          "execution_count": 3
        }
      ],
      "source": [
        "import re\n",
        "re.findall(r'@robot\\d\\W', tweet)\n"
      ]
    },
    {
      "cell_type": "code",
      "execution_count": null,
      "metadata": {
        "id": "PCrmNeHXFpa3"
      },
      "outputs": [],
      "source": [
        "tweet= \"This Friday feels like Monday, ugh!. User_mentions:2, likes: 9, number of retweets: 7\""
      ]
    },
    {
      "cell_type": "markdown",
      "metadata": {
        "id": "GAPhb3V-Fpa4"
      },
      "source": [
        "Write a regex that matches the number of user mentions given as  User_mentions:9  "
      ]
    },
    {
      "cell_type": "code",
      "execution_count": 4,
      "metadata": {
        "colab": {
          "base_uri": "https://localhost:8080/"
        },
        "id": "LbEMsWoyFpa4",
        "outputId": "ecdd38e4-8225-4e35-b0b8-bf595a918e65"
      },
      "outputs": [
        {
          "output_type": "execute_result",
          "data": {
            "text/plain": [
              "['User_mentions:2']"
            ]
          },
          "metadata": {},
          "execution_count": 4
        }
      ],
      "source": [
        "import re\n",
        "\n",
        "tweet= \"This Friday feels like Monday, ugh!. User_mentions:2, likes: 9, number of retweets: 7\"\n",
        "re.findall(r'User_mentions:\\d+', tweet)\n"
      ]
    },
    {
      "cell_type": "markdown",
      "metadata": {
        "id": "cld56pVjFpa4"
      },
      "source": [
        "Write a regex that matches the number of likes given as,  likes: 5"
      ]
    },
    {
      "cell_type": "code",
      "execution_count": 5,
      "metadata": {
        "colab": {
          "base_uri": "https://localhost:8080/"
        },
        "id": "y-v3_uqtFpa4",
        "outputId": "cd77df3b-9149-4f75-ca00-db5d6e3143d7"
      },
      "outputs": [
        {
          "output_type": "execute_result",
          "data": {
            "text/plain": [
              "['likes: 9']"
            ]
          },
          "metadata": {},
          "execution_count": 5
        }
      ],
      "source": [
        "tweet= \"This Friday feels like Monday, ugh!. User_mentions:2, likes: 9, number of retweets: 7\"\n",
        "re.findall(r'likes:\\s\\d+', tweet)\n"
      ]
    },
    {
      "cell_type": "markdown",
      "metadata": {
        "id": "0vS2iVA2Fpa4"
      },
      "source": [
        "Write a regex that matches the number of retweets given as, for example, number of retweets: 4"
      ]
    },
    {
      "cell_type": "code",
      "execution_count": 6,
      "metadata": {
        "colab": {
          "base_uri": "https://localhost:8080/"
        },
        "id": "yvbgPAPVFpa5",
        "outputId": "70c30ceb-c95a-44ab-8ea3-033e9384b23d"
      },
      "outputs": [
        {
          "output_type": "execute_result",
          "data": {
            "text/plain": [
              "['number of retweets: 7']"
            ]
          },
          "metadata": {},
          "execution_count": 6
        }
      ],
      "source": [
        "tweet= \"This Friday feels like Monday, ugh!. User_mentions:2, likes: 9, number of retweets: 7\"\n",
        "re.findall(r'number of retweets:\\s\\d+', tweet)\n"
      ]
    },
    {
      "cell_type": "code",
      "execution_count": 7,
      "metadata": {
        "id": "ur5GvcUkFpa5"
      },
      "outputs": [],
      "source": [
        "tweet='He#newHis%newTin love with$newPregex #8break%He is&newYpro at it@newLalready &4break! hope he to keeps%newZpracticing'"
      ]
    },
    {
      "cell_type": "markdown",
      "metadata": {
        "id": "CFQRwT0FFpa5"
      },
      "source": [
        "You notice that the sentences are always separated by a special character, followed by a number, the word break, and after that, another special character, e.g &4break!. The words are always separated by a special character, the word new, and a normal random character, e.g #newH"
      ]
    },
    {
      "cell_type": "markdown",
      "metadata": {
        "id": "QZ8QDgt-Fpa5"
      },
      "source": [
        "Write a regex that matches the pattern separating the sentences in the tweet, eg. &4break!"
      ]
    },
    {
      "cell_type": "code",
      "execution_count": 8,
      "metadata": {
        "colab": {
          "base_uri": "https://localhost:8080/"
        },
        "id": "ApqYbETNFpa5",
        "outputId": "c3b33924-ee2f-486b-e60a-59ef3397a9a5"
      },
      "outputs": [
        {
          "output_type": "execute_result",
          "data": {
            "text/plain": [
              "['#8break%', '&4break!']"
            ]
          },
          "metadata": {},
          "execution_count": 8
        }
      ],
      "source": [
        "\n",
        "tweet='He#newHis%newTin love with$newPregex #8break%He is&newYpro at it@newLalready &4break! hope he to keeps%newZpracticing'\n",
        "re.findall(r'\\W\\d+break\\W', tweet)\n"
      ]
    },
    {
      "cell_type": "markdown",
      "metadata": {
        "id": "YpBBAg7bFpa5"
      },
      "source": [
        "Write a regex that matches the pattern separating the words in each sentece, eg. @newL"
      ]
    },
    {
      "cell_type": "code",
      "source": [
        "\n",
        "tweet='He#newHis%newTin love with$newPregex #8break%He is&newYpro at it@newLalready &4break! hope he to keeps%newZpracticing'\n",
        "re.findall(r'\\Wnew.', tweet)\n"
      ],
      "metadata": {
        "colab": {
          "base_uri": "https://localhost:8080/"
        },
        "id": "AyCrWwofdzGF",
        "outputId": "043b3bad-506c-4bd1-a450-3cd03606d46b"
      },
      "execution_count": 9,
      "outputs": [
        {
          "output_type": "execute_result",
          "data": {
            "text/plain": [
              "['#newH', '%newT', '$newP', '&newY', '@newL', '%newZ']"
            ]
          },
          "metadata": {},
          "execution_count": 9
        }
      ]
    },
    {
      "cell_type": "markdown",
      "metadata": {
        "id": "kLVXkiT5Fpa6"
      },
      "source": [
        "## Part 2"
      ]
    },
    {
      "cell_type": "code",
      "execution_count": 10,
      "metadata": {
        "id": "hc7ge_ZAFpa6"
      },
      "outputs": [],
      "source": [
        "tweets=[\"Boredd. Colddd @blueKnight39 Internet keeps stuffing up. Save me! https://www.tellyourstory.com\",\n",
        "\"I had a horrible nightmare last night @anitaLopez98 @MyredHat31 which affected my sleep, now I'm really tired\",\n",
        "\"im lonely  keep me company @YourBestCompany! @myRadio https://radio.mynews.com 22 female, new york\"]"
      ]
    },
    {
      "cell_type": "markdown",
      "metadata": {
        "id": "xiw8GKsNFpa6"
      },
      "source": [
        "Our goal is to extract urls and user mentions from the a collection of tweets."
      ]
    },
    {
      "cell_type": "markdown",
      "metadata": {
        "id": "0SzxRTZVFpa7"
      },
      "source": [
        "Write regex to match http links and print out result"
      ]
    },
    {
      "cell_type": "code",
      "execution_count": 11,
      "metadata": {
        "id": "mpwX8nLJFpa7",
        "colab": {
          "base_uri": "https://localhost:8080/"
        },
        "outputId": "8bc18f82-7bf7-4f5a-f6a7-ac09c12fed00"
      },
      "outputs": [
        {
          "output_type": "stream",
          "name": "stdout",
          "text": [
            "['https://www.tellyourstory.com']\n",
            "[]\n",
            "['https://radio.mynews.com']\n"
          ]
        }
      ],
      "source": [
        "for tweet in tweets:\n",
        "    print(re.findall(r\"https://\\S+\", tweet))"
      ]
    },
    {
      "cell_type": "markdown",
      "metadata": {
        "id": "gBI1-uRWFpa7"
      },
      "source": [
        "Write regex to match http links and print out result"
      ]
    },
    {
      "cell_type": "code",
      "execution_count": 12,
      "metadata": {
        "id": "BWGmuhokFpa7",
        "colab": {
          "base_uri": "https://localhost:8080/"
        },
        "outputId": "0421e49e-d8dd-4dd0-8735-c3301f4bb25b"
      },
      "outputs": [
        {
          "output_type": "stream",
          "name": "stdout",
          "text": [
            "['@blueKnight39']\n",
            "['@anitaLopez98', '@MyredHat31']\n",
            "['@YourBestCompany', '@myRadio']\n"
          ]
        }
      ],
      "source": [
        "for tweet in tweets:\n",
        "    print(re.findall(r\"@\\w+\", tweet))\n",
        "    #print(re.__)"
      ]
    },
    {
      "cell_type": "code",
      "execution_count": null,
      "metadata": {
        "id": "spSmc1HkFpa7"
      },
      "outputs": [],
      "source": [
        "tweets=[\"I would like to apologize for the repeated Video Games Live related tweets. 32 minutes ago\",\n",
        "\"@zaydia but i cant figure out how to get there / back / pay for a hotel 1st May 2019\",\n",
        "\"FML: So much for seniority, bc of technological ineptness 23rd June 2018 17:54\"]"
      ]
    },
    {
      "cell_type": "markdown",
      "metadata": {
        "id": "nYQSCNXXFpa7"
      },
      "source": [
        "Complete the for-loop with a regex that finds all dates in a format similar to 27 minutes ago or 4 hours ago."
      ]
    },
    {
      "cell_type": "code",
      "execution_count": 17,
      "metadata": {
        "id": "bYJkUWQFFpa7",
        "colab": {
          "base_uri": "https://localhost:8080/"
        },
        "outputId": "5729d862-f5c8-478a-f9ba-408b95367654"
      },
      "outputs": [
        {
          "output_type": "stream",
          "name": "stdout",
          "text": [
            "Found time reference: 32 minutes ago\n"
          ]
        }
      ],
      "source": [
        "for tweet in tweets:\n",
        "    match = re.search(r'\\b\\d+\\s+(minutes?|hours?)\\s+ago\\b', tweet)\n",
        "    if match:\n",
        "        print(f\"Found time reference: {match.group(0)}\")\n"
      ]
    },
    {
      "cell_type": "markdown",
      "metadata": {
        "id": "wchk-l0BFpa8"
      },
      "source": [
        "Complete the for-loop with a regex that finds all dates in a format similar to 23rd june 2018."
      ]
    },
    {
      "cell_type": "code",
      "execution_count": 19,
      "metadata": {
        "id": "FlqTS0H9Fpa8",
        "colab": {
          "base_uri": "https://localhost:8080/"
        },
        "outputId": "4ed900d4-f986-4ed9-b90e-99b61f2ffd18"
      },
      "outputs": [
        {
          "output_type": "stream",
          "name": "stdout",
          "text": [
            "[]\n",
            "['1st May 2019']\n",
            "['23rd June 2018']\n"
          ]
        }
      ],
      "source": [
        "for tweet in tweets:\n",
        "    print(re.findall(r\"\\b(\\d{1,2}(?:st|nd|rd|th)\\s\\w+\\s\\d{4})\", tweet))\n"
      ]
    },
    {
      "cell_type": "markdown",
      "metadata": {
        "id": "bvO7-nowFpa8"
      },
      "source": [
        "Complete the for-loop with a regex that finds all dates in a format similar to 1st september 2019 17:25."
      ]
    },
    {
      "cell_type": "code",
      "execution_count": 20,
      "metadata": {
        "id": "B0sREk7cFpa8",
        "colab": {
          "base_uri": "https://localhost:8080/"
        },
        "outputId": "0482f173-05e4-4773-c61a-c91173a662ce"
      },
      "outputs": [
        {
          "output_type": "stream",
          "name": "stdout",
          "text": [
            "[]\n",
            "[]\n",
            "['23rd June 2018 17:54']\n"
          ]
        }
      ],
      "source": [
        "for tweet in tweets:\n",
        "    print(re.findall(r\"\\b\\d{1,2}(?:st|nd|rd|th)\\s\\w+\\s\\d{4}\\s\\d{2}:\\d{2}\\b\", tweet))"
      ]
    }
  ],
  "metadata": {
    "kernelspec": {
      "display_name": "Python 3",
      "language": "python",
      "name": "python3"
    },
    "language_info": {
      "codemirror_mode": {
        "name": "ipython",
        "version": 3
      },
      "file_extension": ".py",
      "mimetype": "text/x-python",
      "name": "python",
      "nbconvert_exporter": "python",
      "pygments_lexer": "ipython3",
      "version": "3.8.0"
    },
    "colab": {
      "provenance": [],
      "include_colab_link": true
    }
  },
  "nbformat": 4,
  "nbformat_minor": 0
}